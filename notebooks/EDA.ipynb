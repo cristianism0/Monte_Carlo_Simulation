{
 "cells": [
  {
   "cell_type": "markdown",
   "id": "2f153695-7208-42dc-ab56-71884997f9a6",
   "metadata": {},
   "source": [
    "### Exploratory Data Analysis for a Monte Carlos Simulation"
   ]
  },
  {
   "cell_type": "markdown",
   "id": "b521413a",
   "metadata": {},
   "source": [
    "### Import all modules needed"
   ]
  },
  {
   "cell_type": "code",
   "execution_count": null,
   "id": "fc6a9f50-181a-4afe-9e4a-ae9eb6a394e7",
   "metadata": {},
   "outputs": [],
   "source": [
    "import matplotlib.pyplot as plt\n",
    "import numpy as np \n",
    "import yfinance as yf\n",
    "import pandas as pd\n",
    "import seaborn as sns"
   ]
  },
  {
   "cell_type": "markdown",
   "id": "26463604",
   "metadata": {},
   "source": [
    "---"
   ]
  },
  {
   "cell_type": "markdown",
   "id": "890c8cbd",
   "metadata": {},
   "source": [
    "#### We will use data from *Microsoft, Apple and NVidea*"
   ]
  },
  {
   "cell_type": "code",
   "execution_count": null,
   "id": "fdf708d2",
   "metadata": {},
   "outputs": [],
   "source": [
    "tickers = yf.Tickers('MSFT AAPL NVDA LCID QS WBD NU TSLA INTC RIOT')\n",
    "all_ticker = yf.download('MSFT AAPL NVDA LCID QS WBD NU TSLA INTC RIOT', period=\"10y\", group_by='ticker')  #download data\n",
    "backup = all_ticker.copy()  # Create a backup of the data"
   ]
  },
  {
   "cell_type": "markdown",
   "id": "3b2f5900",
   "metadata": {},
   "source": [
    "### Starting EDA properly"
   ]
  },
  {
   "cell_type": "code",
   "execution_count": null,
   "id": "c7836135",
   "metadata": {},
   "outputs": [],
   "source": [
    "all_ticker.head()  # Display the first 5 rows of the downloaded data"
   ]
  },
  {
   "cell_type": "code",
   "execution_count": null,
   "id": "f2486124",
   "metadata": {},
   "outputs": [],
   "source": [
    "all_ticker.info()  # Display information about the DataFrame\n",
    "# There IS NaN values\n",
    "\n",
    "all_ticker.isna().sum()"
   ]
  },
  {
   "cell_type": "markdown",
   "id": "fe7927af",
   "metadata": {},
   "source": [
    "#### OHLCV - Meaning\n",
    "\n",
    "-   Open -> First traded price\n",
    "-   High -> Highest price\n",
    "-   Low -> Lowest price\n",
    "-   Close -> Final traded price\n",
    "-   Volume -> Total number of shares and contracts on a periody"
   ]
  },
  {
   "cell_type": "code",
   "execution_count": null,
   "id": "86224387",
   "metadata": {},
   "outputs": [],
   "source": [
    "all_ticker.describe()  # Display summary statistics of the DataFrame\n",
    "# Special Attention to STD Variation, which is the standard deviation of the returns"
   ]
  },
  {
   "cell_type": "markdown",
   "id": "f9132a0c",
   "metadata": {},
   "source": [
    "---"
   ]
  },
  {
   "cell_type": "markdown",
   "id": "9c91e0ff",
   "metadata": {},
   "source": [
    "### Graphical Analysis using *Matplotlib or Seaborn*"
   ]
  },
  {
   "cell_type": "code",
   "execution_count": null,
   "id": "bebaf4db",
   "metadata": {},
   "outputs": [],
   "source": [
    "all_ticker.hist(bins=50, figsize=(20,15))  # Plot histograms for each ticker   \n",
    "plt.show()  # Show the histograms"
   ]
  },
  {
   "cell_type": "code",
   "execution_count": null,
   "id": "7b33f1c7",
   "metadata": {},
   "outputs": [],
   "source": [
    "sns.boxplot(data=all_ticker)  # Create a boxplot for each ticker\n",
    "plt.show()  # Show the boxplot"
   ]
  },
  {
   "cell_type": "code",
   "execution_count": 13,
   "id": "f2e0a6e5",
   "metadata": {},
   "outputs": [],
   "source": [
    "def calc_returns(stock_df) -> pd.DataFrame:\n",
    "    # Coleta todas as colunas Close de uma vez\n",
    "    close_columns = [col for col in stock_df.columns if 'Close' in col]\n",
    "    close_prices = stock_df[close_columns].copy()\n",
    "    \n",
    "    # Renomeia colunas para ficar mais limpo: ('AAPL', 'Close') -> 'AAPL'\n",
    "    close_prices.columns = [col[0] for col in close_prices.columns]\n",
    "    \n",
    "    returns = close_prices.pct_change().dropna()  \n",
    "    return returns\n",
    "\n",
    "returns = calc_returns(all_ticker)"
   ]
  },
  {
   "cell_type": "code",
   "execution_count": null,
   "id": "fc64efec",
   "metadata": {},
   "outputs": [],
   "source": [
    "sns.scatterplot(data=returns)\n",
    "plt.show()"
   ]
  },
  {
   "cell_type": "markdown",
   "id": "9cbacfa5",
   "metadata": {},
   "source": [
    "---"
   ]
  },
  {
   "cell_type": "markdown",
   "id": "e3d08575",
   "metadata": {},
   "source": [
    "### Calculate a Covariance Matrix"
   ]
  },
  {
   "cell_type": "code",
   "execution_count": null,
   "id": "963638f1",
   "metadata": {},
   "outputs": [],
   "source": [
    "returns_cov = returns.cov()\n",
    "returns_corr = returns.corr()\n",
    "annual_returns_cov = returns_cov * 252   #252 dias úteis\n",
    "\n",
    "print(f\"Matriz de Covariância:\\n {returns_cov}\\n Covariância Anual:\\n {annual_returns_cov}\\n\")\n",
    "print(f\"Matriz de Correlação:\\n {returns_corr}\")"
   ]
  }
 ],
 "metadata": {
  "kernelspec": {
   "display_name": "venv",
   "language": "python",
   "name": "python3"
  },
  "language_info": {
   "codemirror_mode": {
    "name": "ipython",
    "version": 3
   },
   "file_extension": ".py",
   "mimetype": "text/x-python",
   "name": "python",
   "nbconvert_exporter": "python",
   "pygments_lexer": "ipython3",
   "version": "3.11.9"
  }
 },
 "nbformat": 4,
 "nbformat_minor": 5
}
